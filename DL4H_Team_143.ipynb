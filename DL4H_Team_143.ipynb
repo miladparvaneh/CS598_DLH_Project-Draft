{
  "nbformat": 4,
  "nbformat_minor": 0,
  "metadata": {
    "colab": {
      "provenance": []
    },
    "kernelspec": {
      "name": "python3",
      "display_name": "Python 3"
    },
    "language_info": {
      "name": "python"
    }
  },
  "cells": [
    {
      "cell_type": "markdown",
      "source": [
        "# An attention based deep learning model of clinical events in the intensive care unit\n",
        "\n",
        "---\n",
        "\n",
        "* Name: Milad Parvaneh\n",
        "* NetID: sparva2\n",
        "* Team ID: 143\n",
        "* Paper ID: 50\n",
        "* Link to a public Github repository: https://github.com/miladparvaneh/CS598_DLH_Project-Draft.git"
      ],
      "metadata": {
        "id": "j01aH0PR4Sg-"
      }
    },
    {
      "cell_type": "markdown",
      "source": [
        "# Introduction\n",
        "\n",
        "*   Background of the problem\n",
        "\n",
        "  * Problem type: For my course project, I selected a study, from the provided list of papers, that employs a deep learning model for three prediction tasks in the intensive care unit (ICU) setting [1]. The paper uses long short-term memory (LSTM) equipped with an attention mechanism to predict clinical events, including daily sepsis, myocardial infarction, and vancomycin antibiotic administration.\n",
        "\n",
        "  * Importance/meaning of solving the problem: Healthcare professionals in ICUs are required to process vast amounts of real-time data to make accurate diagnoses and implement the right treatments. With the rising admissions to ICUs, it becomes crucial to equip them with support tools for effective care delivery.\n",
        "\n",
        "  * The difficulty of the problem: Traditional computer-assisted decision support systems in healthcare mainly rely on scoring systems derived from feature selection and logistic or hazard regression. These systems often perform poorly when applied to outcomes they were not designed to predict [2-3]. Additionally, they struggle to capture the non-linear relationships, which are common in healthcare topics. Despite the potential of traditional machine learning models to address these issues, their lack of interpretability has led to a preference for more transparent linear models in the past.\n",
        "\n",
        "  * The state of the art methods and effectiveness: Machine learning (ML) prediction models, trained on relevant datasets, offer valuable assistance for these purposes. Within the array of ML techniques, deep learning in particular has demonstrated promising capabilities.\n",
        "\n",
        "*   Paper explanation\n",
        "\n",
        "  * What did the paper propose? The study [1] suggests training a recurrent neural network (RNN) in the form of LSTM with the inclusion of a variable-level attention mechanism.\n",
        "\n",
        "  * What is the innovations of the method? The study claims that by integrating a variable-level attention mechanism, interpretability can be achieved directly at the input variable level, rather than within a more complex and less interpretable embedded space. To be more specific, this approach allows for variable-level attention, providing insights into which input variables, such as vital signs, lab results, medications, were most influential at different points in time for the model predictions.\n",
        "\n",
        "  * How well the proposed method work (in its own metrics)? The study's deep learning model demonstrated robust performance in predicting three clinical events in an ICU setting: sepsis, myocardial infarction (MI), and vancomycin administration. The predictive performance of the model was measured using the area under the receiver operating characteristic curve (AUC), a common metric in machine learning for evaluating the accuracy of a binary classifier.\n",
        "\n",
        "          Sepsis Prediction:\n",
        "\n",
        "          Same-day AUC: 0.952\n",
        "          Next-day AUC: 0.876\n",
        "\n",
        "          Myocardial Infarction (MI) Prediction:\n",
        "\n",
        "          Same-day AUC: 0.834\n",
        "          Next-day AUC: 0.823\n",
        "\n",
        "          Vancomycin Administration Prediction:\n",
        "\n",
        "          Same-day AUC: 0.904\n",
        "          Next-day AUC: 0.833\n",
        "\n",
        "  * What are the contributions to the research regime (referring the Background above, how important the paper is to the problem)? The major contributions of this research to the clinical and machine learning fields include:\n",
        "\n",
        "          Introduction of Attention Mechanisms in ICU Event Prediction\n",
        "          Enhanced Interpretability\n",
        "          High Predictive Performance\n",
        "          Potential for Real-time Clinical Decision Support\n",
        "\n",
        "        These contributions demonstrate a significant advancement in applying deep learning techniques to critical care, potentially leading to more informed and timely clinical decisions in ICUs."
      ],
      "metadata": {
        "id": "MQ0sNuMePBXx"
      }
    },
    {
      "cell_type": "markdown",
      "source": [
        "# Scope of Reproducibility:\n",
        "\n",
        "The study explores whether LSTMs, with an added variable-level attention mechanism, can effectively predict clinical outcomes in the ICU based on available patient data. This method seeks to make model interpretations more accessible for clinicians by highlighting critical daily data alongside the patient's ongoing clinical progression. Here are some highlights of what the study tries to investigate:\n",
        "\n",
        "\n",
        "1.   Predicting clinical events with LSTM: The study hypothesizes that LSTM, trained on a comprehensive set of ICU admission variables, can accurately predict a variety of clinical events. This is a base hypothesis for this research, suggesting that deep learning can effectively handle the temporal and complex nature of ICU data to make meaningful predictions.\n",
        "\n",
        "2.   Enhancement of model interpretability through variable-level attention: A key hypothesis of the study is that incorporating a variable-level attention mechanism can significantly enhance the interpretability of LSTM predictions for clinicians. Unlike traditional deep learning models that may act as black boxes, the attention mechanism is expected to highlight the input variables, e.g., vital signs, lab results, medications, that are most influential in making predictions at any given time. This approach seems to mirror the clinical decision-making process, where clinicians focus on the most pertinent information to diagnose and treat patients.\n",
        "\n",
        "3.   Generalizability across different clinical outcomes: The research, implicitly, tests the hypothesis that a single deep learning architecture can be generalized to predict multiple clinical events, such as sepsis, myocardial infarction, and the administration of the antibiotic vancomycin. This hypothesis challenges the notion that different clinical outcomes require entirely separate models, suggesting instead that a flexible deep learning approach can accommodate various prediction tasks with appropriate training."
      ],
      "metadata": {
        "id": "uygL9tTPSVHB"
      }
    },
    {
      "cell_type": "markdown",
      "source": [
        "# Install Required Packages"
      ],
      "metadata": {
        "id": "fT89AdFmIJHw"
      }
    },
    {
      "cell_type": "code",
      "source": [
        "!pip install pyhealth"
      ],
      "metadata": {
        "id": "CeErm1YYIO7A"
      },
      "execution_count": null,
      "outputs": []
    },
    {
      "cell_type": "markdown",
      "source": [
        "# Import Required Libraries"
      ],
      "metadata": {
        "id": "f7BmvRiDIwYd"
      }
    },
    {
      "cell_type": "code",
      "source": [
        "import random\n",
        "import pickle\n",
        "import numpy as np\n",
        "from google.colab import drive\n",
        "from pyhealth.datasets import MIMIC3Dataset\n",
        "from torch.utils.data import Dataset\n",
        "import torch\n",
        "import torch.nn as nn\n",
        "import torch.nn.functional as F\n",
        "import matplotlib.pyplot as plt"
      ],
      "metadata": {
        "id": "le7uhQVbIztN"
      },
      "execution_count": 13,
      "outputs": []
    },
    {
      "cell_type": "markdown",
      "source": [
        "# Methodology"
      ],
      "metadata": {
        "id": "xWAHJ_1CdtaA"
      }
    },
    {
      "cell_type": "markdown",
      "source": [
        "##  Data\n",
        "\n",
        "  * Source of the data: The data used in this project is the MIMIC-III dataset. However, for this initial draft phase, a similar dataset is used, which is synthesized from the MIMIC-III and was used earlier by some of the Homeworks and Data Labs. Here is a a link to the raw datasets: https://storage.googleapis.com/pyhealth/Synthetic_MIMIC-III/. The main reason for using the synthesized version was the privacy concerns. For next phase of the project and after discussing with the TAs, the original MIMIC-III will be adopted.\n",
        "  \n",
        "  The original MIMIC-III dataset consists of anonymized data for over 40,000 patients from critical care units at Beth Israel Deaconess Medical Center from 2001 to 2012. It features patient demographics, hourly vital signs, lab results, procedures, medications, caregiver notes, imaging reports, and mortality information, including after hospital discharge. Although MIMIC-III is de-identified, it still needs user training before access can be granted. For that matter, I passed the ‘Data or Specimens Only Research’ course provided by the CITI program. I, then, applied and was approved for dataset access through PhysioNet.\n",
        "\n",
        "  * Statistics:\n",
        "\n",
        "    * Total number of patient: 12'872\n",
        "    * Number of patients with sepsis: 3'218\n",
        "    * Ratio of patients with sepsis: 0.25\n",
        "\n",
        "      More statistics are printed out in the corresponding code snippet below.\n",
        "\n",
        "  * Data process:\n",
        "    * Among the three prediction tasks defined for this project, I initially dicided to work on sepsis prediction. Checking the raw dataset, it turns out that only 6% of the patients are diagnosed with sepsis (class imbalance). With 94% of the data belonging to the negative class, a machine learning model might learn to predominantly predict the majority class because doing so would still yield a high overall accuracy. For example, a naive model that always predicts 'negative' would be correct 94% of the time, misleadingly suggesting high performance. The model may fail to capture the patterns and characteristics of the positive class due to its underrepresentation. This often results in poor generalization capabilities when encountering new positive samples outside of the training set. Several techniques can be used to mitigate the effects of class imbalance, one of which is reducing the number of negative samples to balance the dataset. Here, I decided to drop a portion of negative samples and *randomly* keep around 10'000 which leads to 25% positive samples rate.\n",
        "\n",
        "    * Additionally, including sepsis diagnosis codes directly within the input features (seqs) could bias the model. The model might learn simply to look for those codes rather than identifying patterns that predict sepsis before it's officially diagnosed. To make the model more practical and robust, it's a good idea to remove the sepsis-related diagnosis codes from the seqs before using them as input for training.\n",
        "\n",
        "    * The dataset is splitted to train/valid sets as 80/20.\n",
        "\n",
        "    * For the sepsis prediction task, the diagnosis instances within each visit for a given patient are considered as the input feature, for now. This keeps the model training computationally inexpensive while the prediction results are easy to interpret. At upcoming phases of the project, more feautes will be considered following those analyzed in the research paper."
      ],
      "metadata": {
        "id": "2NbPHUTMbkD3"
      }
    },
    {
      "cell_type": "markdown",
      "source": [
        "### Reading Data from Saved File\n",
        "\n",
        "Since importing the raw data and its pre-processing took significant time, I saved the resultant output file to be read later in the code. That is why some code snippets below are commented out. They were initially used to load and process the raw data, and are shown here as a reference. Later in the code, the proceesed data is read from a file named 'patient_data.pkl'."
      ],
      "metadata": {
        "id": "fweJ30IVNWwQ"
      }
    },
    {
      "cell_type": "code",
      "source": [
        "# This line of code was initially used to import the raw data\n",
        "# mimic3_ds = MIMIC3Dataset(root = 'https://storage.googleapis.com/pyhealth/Synthetic_MIMIC-III/',\n",
        "#         tables = ['DIAGNOSES_ICD', 'PRESCRIPTIONS', 'PROCEDURES_ICD'],\n",
        "# )"
      ],
      "metadata": {
        "colab": {
          "base_uri": "https://localhost:8080/"
        },
        "id": "ZfsGlNilVgkW",
        "outputId": "319a5194-a602-4bc2-d679-c3aa3d5c3414"
      },
      "execution_count": null,
      "outputs": [
        {
          "output_type": "stream",
          "name": "stdout",
          "text": [
            "INFO: Pandarallel will run on 1 workers.\n",
            "INFO: Pandarallel will use Memory file system to transfer data between the main process and workers.\n"
          ]
        },
        {
          "output_type": "stream",
          "name": "stderr",
          "text": [
            "/usr/lib/python3.10/multiprocessing/popen_fork.py:66: RuntimeWarning: os.fork() was called. os.fork() is incompatible with multithreaded code, and JAX is multithreaded, so this will likely lead to a deadlock.\n",
            "  self.pid = os.fork()\n"
          ]
        },
        {
          "output_type": "stream",
          "name": "stdout",
          "text": [
            "finish basic patient information parsing : 101.92953133583069s\n"
          ]
        },
        {
          "output_type": "stream",
          "name": "stderr",
          "text": [
            "/usr/lib/python3.10/multiprocessing/popen_fork.py:66: RuntimeWarning: os.fork() was called. os.fork() is incompatible with multithreaded code, and JAX is multithreaded, so this will likely lead to a deadlock.\n",
            "  self.pid = os.fork()\n"
          ]
        },
        {
          "output_type": "stream",
          "name": "stdout",
          "text": [
            "finish parsing DIAGNOSES_ICD : 71.49749422073364s\n"
          ]
        },
        {
          "output_type": "stream",
          "name": "stderr",
          "text": [
            "/usr/lib/python3.10/multiprocessing/popen_fork.py:66: RuntimeWarning: os.fork() was called. os.fork() is incompatible with multithreaded code, and JAX is multithreaded, so this will likely lead to a deadlock.\n",
            "  self.pid = os.fork()\n"
          ]
        },
        {
          "output_type": "stream",
          "name": "stdout",
          "text": [
            "finish parsing PRESCRIPTIONS : 181.85107588768005s\n"
          ]
        },
        {
          "output_type": "stream",
          "name": "stderr",
          "text": [
            "/usr/lib/python3.10/multiprocessing/popen_fork.py:66: RuntimeWarning: os.fork() was called. os.fork() is incompatible with multithreaded code, and JAX is multithreaded, so this will likely lead to a deadlock.\n",
            "  self.pid = os.fork()\n"
          ]
        },
        {
          "output_type": "stream",
          "name": "stdout",
          "text": [
            "finish parsing PROCEDURES_ICD : 58.98727369308472s\n"
          ]
        },
        {
          "output_type": "stream",
          "name": "stderr",
          "text": [
            "Mapping codes: 100%|██████████| 49993/49993 [00:01<00:00, 25824.03it/s]\n"
          ]
        }
      ]
    },
    {
      "cell_type": "code",
      "source": [
        "# mimic3_ds.info()"
      ],
      "metadata": {
        "colab": {
          "base_uri": "https://localhost:8080/"
        },
        "id": "ibSA5R_wXWRk",
        "outputId": "c8841824-2400-4f1c-ff13-5eb323ca1a8c"
      },
      "execution_count": null,
      "outputs": [
        {
          "output_type": "stream",
          "name": "stdout",
          "text": [
            "\n",
            "dataset.patients: patient_id -> <Patient>\n",
            "\n",
            "<Patient>\n",
            "    - visits: visit_id -> <Visit> \n",
            "    - other patient-level info\n",
            "    \n",
            "    <Visit>\n",
            "        - event_list_dict: table_name -> List[Event]\n",
            "        - other visit-level info\n",
            "    \n",
            "        <Event>\n",
            "            - code: str\n",
            "            - other event-level info\n",
            "\n"
          ]
        }
      ]
    },
    {
      "cell_type": "code",
      "source": [
        "# mimic3_ds.patients['10848'].visits['111230'].event_list_dict['DIAGNOSES_ICD']"
      ],
      "metadata": {
        "colab": {
          "base_uri": "https://localhost:8080/"
        },
        "id": "V0Zp2WazfXRs",
        "outputId": "a4ce3b9d-1273-4800-b7ce-2199def9db29"
      },
      "execution_count": null,
      "outputs": [
        {
          "output_type": "execute_result",
          "data": {
            "text/plain": [
              "[Event with ICD9CM code 4019 from table DIAGNOSES_ICD,\n",
              " Event with ICD9CM code 7907 from table DIAGNOSES_ICD,\n",
              " Event with ICD9CM code 41401 from table DIAGNOSES_ICD,\n",
              " Event with ICD9CM code 25000 from table DIAGNOSES_ICD,\n",
              " Event with ICD9CM code 9971 from table DIAGNOSES_ICD,\n",
              " Event with ICD9CM code 2724 from table DIAGNOSES_ICD,\n",
              " Event with ICD9CM code 496 from table DIAGNOSES_ICD,\n",
              " Event with ICD9CM code V4582 from table DIAGNOSES_ICD,\n",
              " Event with ICD9CM code 41402 from table DIAGNOSES_ICD,\n",
              " Event with ICD9CM code 41041 from table DIAGNOSES_ICD,\n",
              " Event with ICD9CM code 9992 from table DIAGNOSES_ICD,\n",
              " Event with ICD9CM code 920 from table DIAGNOSES_ICD,\n",
              " Event with ICD9CM code 78830 from table DIAGNOSES_ICD]"
            ]
          },
          "metadata": {},
          "execution_count": 7
        }
      ]
    },
    {
      "cell_type": "code",
      "source": [
        "# Define sepsis-related ICD-9 codes\n",
        "sepsis_codes = {'99591', '78552', '99592'}\n",
        "\n",
        "# Initialize a dictionary to hold the sepsis flag for each patient\n",
        "patient_sepsis_status = {}\n",
        "\n",
        "# Loop through each patient in the MIMIC3Dataset\n",
        "# for patient_id, patient_obj in mimic3_ds.patients.items():\n",
        "#     patient_has_sepsis = False  # Initialize flag for each patient\n",
        "#\n",
        "#     # Loop through each visit in the patient's record\n",
        "#     for visit_id, visit_obj in patient_obj.visits.items():\n",
        "#         # Access the list of diagnosis events\n",
        "#         diagnosis_events = visit_obj.event_list_dict.get('DIAGNOSES_ICD', [])\n",
        "#\n",
        "#         # Check if any of the diagnosis codes in the events are sepsis-related\n",
        "#         for event in diagnosis_events:\n",
        "#             if event.code in sepsis_codes:\n",
        "#                 patient_has_sepsis = True\n",
        "#                 break  # Stop checking if sepsis is confirmed\n",
        "#\n",
        "#         if patient_has_sepsis:\n",
        "#             break  # Stop checking further visits if sepsis is confirmed\n",
        "#\n",
        "#     # Store the sepsis status in the dictionary\n",
        "#     patient_sepsis_status[patient_id] = patient_has_sepsis\n",
        "#\n",
        "# Example output to check some of the results\n",
        "# print({k: v for k, v in patient_sepsis_status.items() if v})  # prints only patients with sepsis"
      ],
      "metadata": {
        "id": "5uYDh8DxYbQv"
      },
      "execution_count": null,
      "outputs": []
    },
    {
      "cell_type": "code",
      "source": [
        "# number_of_sepsis_patients = sum(patient_sepsis_status.values())\n",
        "\n",
        "# print(\"Number of patients with sepsis:\", number_of_sepsis_patients)"
      ],
      "metadata": {
        "colab": {
          "base_uri": "https://localhost:8080/"
        },
        "id": "WPG66N3XhjND",
        "outputId": "a2ea4622-9a67-43a6-8cdc-06764b7ade0c"
      },
      "execution_count": null,
      "outputs": [
        {
          "output_type": "stream",
          "name": "stdout",
          "text": [
            "Number of patients with sepsis: 3218\n"
          ]
        }
      ]
    },
    {
      "cell_type": "code",
      "source": [
        "pids = []     # List of patient IDs\n",
        "vids = []     # List of lists, where each sublist contains visit IDs for a patient\n",
        "sepsis = []   # List of sepsis labels for each patient (0 for normal, 1 for sepsis)\n",
        "seqs = []     # List of lists of lists for diagnosis codes"
      ],
      "metadata": {
        "id": "5Ad0FEXVkZmJ"
      },
      "execution_count": null,
      "outputs": []
    },
    {
      "cell_type": "code",
      "source": [
        "# Define target numbers based on your description\n",
        "# num_sepsis_patients = number_of_sepsis_patients\n",
        "# num_non_sepsis_patients = 3 * num_sepsis_patients  # This is chosen to be about three times the number of sepsis patients\n",
        "\n",
        "# Separate patient IDs into sepsis and non-sepsis lists\n",
        "# sepsis_patient_ids = [pid for pid, has_sepsis in patient_sepsis_status.items() if has_sepsis]\n",
        "# non_sepsis_patient_ids = [pid for pid, has_sepsis in patient_sepsis_status.items() if not has_sepsis]\n",
        "\n",
        "# Randomly select non-sepsis patients to achieve the desired ratio\n",
        "# random_selected_non_sepsis = random.sample(non_sepsis_patient_ids, num_non_sepsis_patients)\n",
        "\n",
        "# Combine lists\n",
        "# final_patient_ids = sepsis_patient_ids + random_selected_non_sepsis\n",
        "\n",
        "# Shuffle the combined list to mix sepsis and non-sepsis patients\n",
        "# random.shuffle(final_patient_ids)\n",
        "\n",
        "# Initialize containers\n",
        "pids = []     # List of patient IDs\n",
        "vids = []     # List of lists, where each sublist contains visit IDs for a patient\n",
        "sepsis = []   # List of sepsis labels for each patient (0 for normal, 1 for sepsis)\n",
        "seqs = []     # List of lists of lists for diagnosis codes\n",
        "\n",
        "# Populate the data structures with the final selected patient IDs\n",
        "# for pid in final_patient_ids:\n",
        "#     patient_obj = mimic3_ds.patients[pid]\n",
        "#     pids.append(pid)\n",
        "#     patient_vids = []\n",
        "#     patient_seqs = []\n",
        "#     for visit_id, visit_obj in patient_obj.visits.items():\n",
        "#         patient_vids.append(visit_id)\n",
        "#         diagnosis_events = visit_obj.event_list_dict.get('DIAGNOSES_ICD', [])\n",
        "\n",
        "#         # Filter out sepsis-related codes\n",
        "#         filtered_codes = [event.code for event in diagnosis_events if event.code not in sepsis_codes]\n",
        "#         patient_seqs.append(filtered_codes)\n",
        "#     vids.append(patient_vids)\n",
        "#     seqs.append(patient_seqs)\n",
        "#     sepsis.append(1 if patient_sepsis_status[pid] else 0)"
      ],
      "metadata": {
        "id": "nCpuTaDovgh-"
      },
      "execution_count": null,
      "outputs": []
    },
    {
      "cell_type": "code",
      "source": [
        "# Save data using pickle\n",
        "# with open('patient_data.pkl', 'wb') as file:\n",
        "#     pickle.dump({'pids': pids, 'vids': vids, 'sepsis': sepsis, 'seqs': seqs}, file)\n",
        "\n",
        "# print(\"Data saved with pickle.\")"
      ],
      "metadata": {
        "colab": {
          "base_uri": "https://localhost:8080/"
        },
        "id": "i3NtAjR6-6Ot",
        "outputId": "224d6232-e1b3-43b5-bb61-427fecfa0128"
      },
      "execution_count": null,
      "outputs": [
        {
          "output_type": "stream",
          "name": "stdout",
          "text": [
            "Data saved with pickle.\n"
          ]
        }
      ]
    },
    {
      "cell_type": "code",
      "source": [
        "# Load data using pickle\n",
        "with open('patient_data.pkl', 'rb') as file:\n",
        "    data_loaded = pickle.load(file)\n",
        "\n",
        "pids = data_loaded['pids']\n",
        "vids = data_loaded['vids']\n",
        "sepsis = data_loaded['sepsis']\n",
        "seqs = data_loaded['seqs']\n",
        "\n",
        "print(\"Data loaded with pickle.\")"
      ],
      "metadata": {
        "colab": {
          "base_uri": "https://localhost:8080/",
          "height": 0
        },
        "id": "YgO2K_XqASVi",
        "outputId": "8e807ecd-f011-44b1-efa9-ad6f53710c4d"
      },
      "execution_count": 14,
      "outputs": [
        {
          "output_type": "stream",
          "name": "stdout",
          "text": [
            "Data loaded with pickle.\n"
          ]
        }
      ]
    },
    {
      "cell_type": "code",
      "source": [
        "print(\"Patient ID:\", pids[3])\n",
        "print(\"Sepsis status:\", sepsis[3])\n",
        "print(\"# of visits:\", len(vids[3]))\n",
        "for visit in range(len(vids[3])):\n",
        "    print(f\"\\t{visit}-th visit id:\", vids[3][visit])\n",
        "    print(f\"\\t{visit}-th visit diagnosis labels:\", seqs[3][visit])"
      ],
      "metadata": {
        "colab": {
          "base_uri": "https://localhost:8080/",
          "height": 0
        },
        "id": "NO2KqgHUk4Hq",
        "outputId": "1f38ff29-2c6f-4ed8-da39-1f8e3d771165"
      },
      "execution_count": 15,
      "outputs": [
        {
          "output_type": "stream",
          "name": "stdout",
          "text": [
            "Patient ID: 17186\n",
            "Sepsis status: 0\n",
            "# of visits: 1\n",
            "\t0-th visit id: 117835\n",
            "\t0-th visit diagnosis labels: ['4019', '2851', '25000', '28529', '7850', '73382', '5168', '9779']\n"
          ]
        }
      ]
    },
    {
      "cell_type": "code",
      "source": [
        "print(\"Number of patients with sepsis:\", sum(sepsis))\n",
        "print(\"Ratio of patients with sepsis: %.2f\" % (sum(sepsis) / len(sepsis)))"
      ],
      "metadata": {
        "colab": {
          "base_uri": "https://localhost:8080/",
          "height": 0
        },
        "id": "5jql8Jx0lRkl",
        "outputId": "0540f9e9-b47c-4e3d-e62d-c646f3a27f4f"
      },
      "execution_count": 16,
      "outputs": [
        {
          "output_type": "stream",
          "name": "stdout",
          "text": [
            "Number of patients with sepsis: 3218\n",
            "Ratio of patients with sepsis: 0.25\n"
          ]
        }
      ]
    },
    {
      "cell_type": "code",
      "source": [
        "def calculate_stats(pids, vids, sepsis, seqs):\n",
        "    # Print basic information\n",
        "    print(f\"Total patients: {len(pids)}\")\n",
        "    print(f\"Total sepsis cases: {sum(sepsis)}\")\n",
        "    print(f\"Percentage of sepsis cases: {sum(sepsis) / len(sepsis) * 100:.2f}%\")\n",
        "\n",
        "    # Calculate visits statistics\n",
        "    visits_counts = [len(v) for v in vids]\n",
        "    print(f\"Average number of visits per patient: {np.mean(visits_counts):.2f}\")\n",
        "    print(f\"Maximum number of visits by a single patient: {np.max(visits_counts)}\")\n",
        "    print(f\"Minimum number of visits by a single patient: {np.min(visits_counts)}\")\n",
        "\n",
        "    # Flatten diagnosis codes to calculate frequencies\n",
        "    all_diagnoses = [code for patient in seqs for visit in patient for code in visit]\n",
        "    unique_diagnoses, counts = np.unique(all_diagnoses, return_counts=True)\n",
        "    print(f\"Total unique diagnosis codes: {len(unique_diagnoses)}\")\n",
        "    print(f\"Most common diagnosis code: {unique_diagnoses[np.argmax(counts)]} with {np.max(counts)} occurrences\")\n",
        "\n",
        "    # Handling missing data in sequences\n",
        "    empty_visits = sum(1 for patient in seqs for visit in patient if not visit)\n",
        "    print(f\"Number of empty visits across all patients: {empty_visits}\")\n",
        "\n",
        "\n",
        "calculate_stats(pids, vids, sepsis, seqs)"
      ],
      "metadata": {
        "colab": {
          "base_uri": "https://localhost:8080/",
          "height": 0
        },
        "id": "tDQe95HUesJm",
        "outputId": "143e58b4-9616-4e8a-c244-f07116e3955a"
      },
      "execution_count": 17,
      "outputs": [
        {
          "output_type": "stream",
          "name": "stdout",
          "text": [
            "Total patients: 12872\n",
            "Total sepsis cases: 3218\n",
            "Percentage of sepsis cases: 25.00%\n",
            "Average number of visits per patient: 1.07\n",
            "Maximum number of visits by a single patient: 6\n",
            "Minimum number of visits by a single patient: 1\n",
            "Total unique diagnosis codes: 4511\n",
            "Most common diagnosis code: 4019 with 4915 occurrences\n",
            "Number of empty visits across all patients: 100\n"
          ]
        }
      ]
    },
    {
      "cell_type": "markdown",
      "source": [
        "### Convert Diagnosis Codes to Numeric IDs"
      ],
      "metadata": {
        "id": "5_QFmkJapfhh"
      }
    },
    {
      "cell_type": "code",
      "source": [
        "code_to_id = {}\n",
        "current_id = 0\n",
        "\n",
        "for patient_visits in seqs:\n",
        "    for visit in patient_visits:\n",
        "        for code in visit:\n",
        "            if code not in code_to_id:\n",
        "                code_to_id[code] = current_id\n",
        "                current_id += 1"
      ],
      "metadata": {
        "id": "CWZTbX1rphcG"
      },
      "execution_count": 18,
      "outputs": []
    },
    {
      "cell_type": "code",
      "source": [
        "max_index = max(code_to_id.values())\n",
        "print(\"Maximum index in code_to_id:\", max_index)"
      ],
      "metadata": {
        "colab": {
          "base_uri": "https://localhost:8080/",
          "height": 0
        },
        "id": "gq8BhqJwrsZr",
        "outputId": "82483f5c-1888-40e7-91d5-93f3e12a4905"
      },
      "execution_count": 19,
      "outputs": [
        {
          "output_type": "stream",
          "name": "stdout",
          "text": [
            "Maximum index in code_to_id: 4510\n"
          ]
        }
      ]
    },
    {
      "cell_type": "markdown",
      "source": [
        "### Custom Dataset\n",
        "\n",
        "Here, I implement a custom dataset, which will mark the key features of the dataset. I will use the sequences of diagnosis codes seqs as input and sepsis as output."
      ],
      "metadata": {
        "id": "QEESewAzT2Jr"
      }
    },
    {
      "cell_type": "code",
      "source": [
        "class CustomDataset(Dataset):\n",
        "    def __init__(self, seqs, sepsis):\n",
        "        self.x = seqs\n",
        "        self.y = sepsis\n",
        "\n",
        "    def __len__(self):\n",
        "        return len(self.y)\n",
        "\n",
        "    def __getitem__(self, index):\n",
        "        return self.x[index], self.y[index]\n",
        "\n",
        "dataset = CustomDataset(seqs, sepsis)"
      ],
      "metadata": {
        "id": "_PvFhfUeljn0"
      },
      "execution_count": 20,
      "outputs": []
    },
    {
      "cell_type": "markdown",
      "source": [
        "Here, the collate function is called by DataLoader after fetching a list of samples using the indices from CustomDataset to collate the list of samples into batches."
      ],
      "metadata": {
        "id": "QCnSquuLUhii"
      }
    },
    {
      "cell_type": "code",
      "source": [
        "def collate_fn(data):\n",
        "    sequences, labels = zip(*data)\n",
        "\n",
        "    y = torch.tensor(labels, dtype=torch.float)\n",
        "\n",
        "    num_patients = len(sequences)\n",
        "    num_visits = [len(patient) for patient in sequences]\n",
        "    num_codes = [len(visit) for patient in sequences for visit in patient]\n",
        "\n",
        "    max_num_visits = max(num_visits)\n",
        "    max_num_codes = max(num_codes)\n",
        "\n",
        "    x = torch.zeros((num_patients, max_num_visits, max_num_codes), dtype=torch.long)\n",
        "    rev_x = torch.zeros((num_patients, max_num_visits, max_num_codes), dtype=torch.long)\n",
        "    masks = torch.zeros((num_patients, max_num_visits, max_num_codes), dtype=torch.bool)\n",
        "    rev_masks = torch.zeros((num_patients, max_num_visits, max_num_codes), dtype=torch.bool)\n",
        "    for i_patient, patient in enumerate(sequences):\n",
        "        rev_patient_visits = patient[::-1]\n",
        "        for j_visit, visit in enumerate(patient):\n",
        "            # len_visit = len(visit)\n",
        "            # x[i_patient, j_visit, :len_visit] = torch.LongTensor(visit)\n",
        "            # masks[i_patient, j_visit, :len_visit] = 1\n",
        "\n",
        "            numeric_codes = [code_to_id[code] for code in visit]\n",
        "            len_visit = len(numeric_codes)\n",
        "            x[i_patient, j_visit, :len_visit] = torch.tensor(numeric_codes, dtype=torch.long)\n",
        "            masks[i_patient, j_visit, :len_visit] = 1\n",
        "\n",
        "        for j_visit, visit in enumerate(rev_patient_visits):\n",
        "            # len_visit = len(visit)\n",
        "            # rev_x[i_patient, j_visit, :len_visit] = torch.LongTensor(visit)\n",
        "            # rev_masks[i_patient, j_visit, :len_visit] = 1\n",
        "\n",
        "            numeric_codes = [code_to_id[code] for code in visit]\n",
        "            len_visit = len(numeric_codes)\n",
        "            rev_x[i_patient, j_visit, :len_visit] = torch.tensor(numeric_codes, dtype=torch.long)\n",
        "            rev_masks[i_patient, j_visit, :len_visit] = 1\n",
        "\n",
        "    return x, masks, rev_x, rev_masks, y"
      ],
      "metadata": {
        "id": "CQ1XOlYOlxRm"
      },
      "execution_count": 21,
      "outputs": []
    },
    {
      "cell_type": "markdown",
      "source": [
        "Splitting the dataset into training and validation sets."
      ],
      "metadata": {
        "id": "CQICw0VkUtju"
      }
    },
    {
      "cell_type": "code",
      "source": [
        "from torch.utils.data.dataset import random_split\n",
        "\n",
        "split = int(len(dataset)*0.8)\n",
        "\n",
        "lengths = [split, len(dataset) - split]\n",
        "train_dataset, val_dataset = random_split(dataset, lengths)\n",
        "\n",
        "print(\"Length of train dataset:\", len(train_dataset))\n",
        "print(\"Length of val dataset:\", len(val_dataset))"
      ],
      "metadata": {
        "colab": {
          "base_uri": "https://localhost:8080/",
          "height": 0
        },
        "id": "gAmRlCSHmSXU",
        "outputId": "09ee3b4a-305b-4d99-e511-d8f3d229b77e"
      },
      "execution_count": 22,
      "outputs": [
        {
          "output_type": "stream",
          "name": "stdout",
          "text": [
            "Length of train dataset: 10297\n",
            "Length of val dataset: 2575\n"
          ]
        }
      ]
    },
    {
      "cell_type": "markdown",
      "source": [
        "Loading the dataset into the data loader."
      ],
      "metadata": {
        "id": "XIp-M7cIUzxq"
      }
    },
    {
      "cell_type": "code",
      "source": [
        "from torch.utils.data import DataLoader\n",
        "\n",
        "def load_data(train_dataset, val_dataset, collate_fn):\n",
        "    batch_size = 32\n",
        "\n",
        "    train_loader = DataLoader(train_dataset, batch_size=batch_size, shuffle=True, collate_fn=collate_fn)\n",
        "    val_loader = DataLoader(val_dataset, batch_size=batch_size, shuffle=False, collate_fn=collate_fn)\n",
        "\n",
        "    return train_loader, val_loader\n",
        "\n",
        "\n",
        "train_loader, val_loader = load_data(train_dataset, val_dataset, collate_fn)"
      ],
      "metadata": {
        "id": "WcPXPe-DmjDK"
      },
      "execution_count": 23,
      "outputs": []
    },
    {
      "cell_type": "markdown",
      "source": [
        "##   Model\n",
        "\n",
        "As a starting point, I implemented two ML models: a naive RNN using GRUs and RETAIN which is a RNN model with attention mechanism [4]. For these implementations, I borrowed some of my as well as provided coding from the Homeworks."
      ],
      "metadata": {
        "id": "3muyDPFPbozY"
      }
    },
    {
      "cell_type": "markdown",
      "source": [
        "### Naive RNN\n",
        "\n",
        "The architecture of the model is a bidirectional Recurrent Neural Network (RNN) using Gated Recurrent Units (GRUs) for processing sequences, specifically designed for sequence classification tasks. Here’s a breakdown of each component and its role within the architecture:\n",
        "\n",
        "* Embedding Layer: Converts each integer-encoded diagnosis code into a dense vector representation. The Embedding layer has num_embeddings which equals the total number of unique diagnosis codes (num_codes), and each embedding has a dimension of embDimSize (128 in this case).\n",
        "\n",
        "* Bidirectional GRU Layers: A type of RNN that is effective in capturing dependencies in time-series data or sequences. It has gating mechanisms (update and reset gates) that regulate the flow of information and help in learning long-range dependencies in data. Both GRU layers have an input_size and hidden_size set to embDimSize (128), which means they take the embedded sequences as input and output hidden states of the same dimension.\n",
        "\n",
        "* Linear and Sigmoid Output Layers.\n",
        "\n",
        "We initially need to transform the diagnosis code for each visit to an embedding."
      ],
      "metadata": {
        "id": "gErdebDUmxci"
      }
    },
    {
      "cell_type": "code",
      "source": [
        "def sum_embeddings_with_mask(x, masks):\n",
        "    masks_expanded = masks.unsqueeze(-1).type_as(x)\n",
        "\n",
        "    masked_embeddings = x * masks_expanded\n",
        "\n",
        "    sum_embeddings = masked_embeddings.sum(dim=2)\n",
        "\n",
        "    return sum_embeddings"
      ],
      "metadata": {
        "id": "kOu_ks5nmrpK"
      },
      "execution_count": 24,
      "outputs": []
    },
    {
      "cell_type": "code",
      "source": [
        "def get_last_visit(hidden_states, masks):\n",
        "    visit_presence = masks.any(dim=2)\n",
        "    visit_indices = torch.arange(visit_presence.size(1)) * visit_presence\n",
        "    last_visit_indices = visit_indices.max(dim=1)[0]\n",
        "    last_visit_indices = last_visit_indices.long().unsqueeze(1).expand(-1, hidden_states.size(2))\n",
        "\n",
        "    batch_indices = torch.arange(0, hidden_states.size(0), device=hidden_states.device).unsqueeze(-1)\n",
        "    last_hidden_state = hidden_states[batch_indices, last_visit_indices.max(dim=1)[0].unsqueeze(1)].squeeze(1)\n",
        "\n",
        "    return last_hidden_state"
      ],
      "metadata": {
        "id": "RA8fDp5YnBcl"
      },
      "execution_count": 25,
      "outputs": []
    },
    {
      "cell_type": "code",
      "source": [
        "class NaiveRNN(nn.Module):\n",
        "    def __init__(self, num_codes):\n",
        "        super().__init__()\n",
        "\n",
        "        self.embedding = None\n",
        "        self.rnn = None\n",
        "        self.rev_rnn = None\n",
        "        self.fc = None\n",
        "        self.sigmoid = None\n",
        "\n",
        "        embDimSize = 128\n",
        "        self.embedding = nn.Embedding(num_embeddings=num_codes, embedding_dim=embDimSize)\n",
        "        self.rnn = nn.GRU(input_size=embDimSize, hidden_size=embDimSize, batch_first=True)\n",
        "        self.rev_rnn = nn.GRU(input_size=embDimSize, hidden_size=embDimSize, batch_first=True)\n",
        "        self.fc = nn.Linear(in_features=2*embDimSize, out_features=1)\n",
        "        self.sigmoid = nn.Sigmoid()\n",
        "\n",
        "    def forward(self, x, masks, rev_x, rev_masks):\n",
        "        \"\"\"\n",
        "        Arguments:\n",
        "            x: the diagnosis sequence of shape (batch_size, # visits, # diagnosis codes)\n",
        "            masks: the padding masks of shape (batch_size, # visits, # diagnosis codes)\n",
        "\n",
        "        Outputs:\n",
        "            probs: probabilities of shape (batch_size)\n",
        "        \"\"\"\n",
        "\n",
        "        batch_size = x.shape[0]\n",
        "\n",
        "        # 1. Pass the sequence through the embedding layer;\n",
        "        x = self.embedding(x)\n",
        "        # 2. Sum the embeddings for each diagnosis code up for a visit of a patient.\n",
        "        x = sum_embeddings_with_mask(x, masks)\n",
        "\n",
        "        # 3. Pass the embegginds through the RNN layer;\n",
        "        output, _ = self.rnn(x)\n",
        "        # 4. Obtain the hidden state at the last visit.\n",
        "        true_h_n = get_last_visit(output, masks)\n",
        "\n",
        "        true_h_n_rev = None\n",
        "\n",
        "        rev_x = self.embedding(rev_x)\n",
        "        rev_x = sum_embeddings_with_mask(rev_x, rev_masks)\n",
        "        rev_output, _ = self.rev_rnn(rev_x)\n",
        "        true_h_n_rev = get_last_visit(rev_output, rev_masks)\n",
        "\n",
        "\n",
        "        # 6. Pass the hidden state through the linear and activation layers.\n",
        "        logits = self.fc(torch.cat([true_h_n, true_h_n_rev], 1))\n",
        "        probs = self.sigmoid(logits)\n",
        "        return probs.view(batch_size)\n",
        "\n",
        "\n",
        "# Loading the model\n",
        "naive_rnn = NaiveRNN(num_codes = max_index + 1)\n",
        "naive_rnn"
      ],
      "metadata": {
        "colab": {
          "base_uri": "https://localhost:8080/",
          "height": 0
        },
        "id": "dYc8r4zPnZYY",
        "outputId": "f56d5f69-20ff-41d0-c3d7-4ac6da0f07cc"
      },
      "execution_count": 26,
      "outputs": [
        {
          "output_type": "execute_result",
          "data": {
            "text/plain": [
              "NaiveRNN(\n",
              "  (embedding): Embedding(4511, 128)\n",
              "  (rnn): GRU(128, 128, batch_first=True)\n",
              "  (rev_rnn): GRU(128, 128, batch_first=True)\n",
              "  (fc): Linear(in_features=256, out_features=1, bias=True)\n",
              "  (sigmoid): Sigmoid()\n",
              ")"
            ]
          },
          "metadata": {},
          "execution_count": 26
        }
      ]
    },
    {
      "cell_type": "markdown",
      "source": [
        "### Model Training and Evaluation"
      ],
      "metadata": {
        "id": "L7MWRO7koHe-"
      }
    },
    {
      "cell_type": "code",
      "source": [
        "from sklearn.metrics import precision_recall_fscore_support, roc_auc_score\n",
        "\n",
        "\n",
        "def eval_model(model, val_loader):\n",
        "    model.eval()\n",
        "    y_pred = torch.LongTensor()\n",
        "    y_score = torch.Tensor()\n",
        "    y_true = torch.LongTensor()\n",
        "    model.eval()\n",
        "    for x, masks, rev_x, rev_masks, y in val_loader:\n",
        "        y_hat = model(x, masks, rev_x, rev_masks)\n",
        "        y_score = torch.cat((y_score,  y_hat.detach().to('cpu')), dim=0)\n",
        "        y_hat = (y_hat > 0.5).int()\n",
        "        y_pred = torch.cat((y_pred,  y_hat.detach().to('cpu')), dim=0)\n",
        "        y_true = torch.cat((y_true, y.detach().to('cpu')), dim=0)\n",
        "\n",
        "    p, r, f, roc_auc = None, None, None, None\n",
        "\n",
        "    p, r, f, _ = precision_recall_fscore_support(y_true, y_pred, average='binary')\n",
        "    roc_auc = roc_auc_score(y_true, y_score)\n",
        "\n",
        "    return p, r, f, roc_auc"
      ],
      "metadata": {
        "id": "aXQT5e9boTmy"
      },
      "execution_count": 27,
      "outputs": []
    },
    {
      "cell_type": "code",
      "source": [
        "def train(model, train_loader, val_loader, n_epochs):\n",
        "    roc_aucs = []  # List to store roc_auc values\n",
        "    for epoch in range(n_epochs):\n",
        "        model.train()\n",
        "        train_loss = 0\n",
        "        for x, masks, rev_x, rev_masks, y in train_loader:\n",
        "            loss = None\n",
        "\n",
        "            optimizer.zero_grad()\n",
        "\n",
        "            outputs = model(x, masks, rev_x, rev_masks)\n",
        "\n",
        "            loss = criterion(outputs, y)\n",
        "\n",
        "            loss.backward()\n",
        "\n",
        "            optimizer.step()\n",
        "\n",
        "            train_loss += loss.item()\n",
        "        train_loss = train_loss / len(train_loader)\n",
        "        print('Epoch: {} \\t Training Loss: {:.6f}'.format(epoch+1, train_loss))\n",
        "        p, r, f, roc_auc = eval_model(model, val_loader)\n",
        "        print('Epoch: {} \\t Validation p: {:.2f}, r:{:.2f}, f: {:.2f}, roc_auc: {:.2f}'\n",
        "              .format(epoch+1, p, r, f, roc_auc))\n",
        "\n",
        "        roc_aucs.append(roc_auc)  # Append the current epoch's roc_auc\n",
        "\n",
        "    return roc_aucs"
      ],
      "metadata": {
        "id": "oT5atfCyoaM5"
      },
      "execution_count": 28,
      "outputs": []
    },
    {
      "cell_type": "markdown",
      "source": [
        "### Plotting function"
      ],
      "metadata": {
        "id": "jvWS9Hgqqn1R"
      }
    },
    {
      "cell_type": "code",
      "source": [
        "def plot_roc_auc(roc_aucs):\n",
        "    epochs = range(1, len(roc_aucs) + 1)\n",
        "    plt.figure(figsize=(10, 5))\n",
        "    plt.plot(epochs, roc_aucs, label='ROC AUC')\n",
        "    plt.title('ROC AUC over Epochs')\n",
        "    plt.xlabel('Epochs')\n",
        "    plt.ylabel('ROC AUC')\n",
        "    plt.legend()\n",
        "    plt.grid(True)\n",
        "    plt.show()"
      ],
      "metadata": {
        "id": "lyTKEKruqrpU"
      },
      "execution_count": 30,
      "outputs": []
    },
    {
      "cell_type": "code",
      "source": [
        "criterion = nn.BCELoss()\n",
        "optimizer = torch.optim.Adam(naive_rnn.parameters(), lr=0.001)\n",
        "\n",
        "n_epochs = 5\n",
        "roc_aucs = train(naive_rnn, train_loader, val_loader, n_epochs)\n",
        "\n",
        "plot_roc_auc(roc_aucs)"
      ],
      "metadata": {
        "colab": {
          "base_uri": "https://localhost:8080/",
          "height": 661
        },
        "id": "k-IwId9nokWh",
        "outputId": "fc7ccf27-bf9e-49d4-f244-445ac00e0b7e"
      },
      "execution_count": 31,
      "outputs": [
        {
          "output_type": "stream",
          "name": "stdout",
          "text": [
            "Epoch: 1 \t Training Loss: 0.053991\n",
            "Epoch: 1 \t Validation p: 0.48, r:0.31, f: 0.38, roc_auc: 0.65\n",
            "Epoch: 2 \t Training Loss: 0.018637\n",
            "Epoch: 2 \t Validation p: 0.48, r:0.30, f: 0.37, roc_auc: 0.65\n",
            "Epoch: 3 \t Training Loss: 0.008840\n",
            "Epoch: 3 \t Validation p: 0.47, r:0.27, f: 0.34, roc_auc: 0.65\n",
            "Epoch: 4 \t Training Loss: 0.006052\n",
            "Epoch: 4 \t Validation p: 0.49, r:0.28, f: 0.35, roc_auc: 0.65\n",
            "Epoch: 5 \t Training Loss: 0.004571\n",
            "Epoch: 5 \t Validation p: 0.48, r:0.28, f: 0.36, roc_auc: 0.65\n"
          ]
        },
        {
          "output_type": "display_data",
          "data": {
            "text/plain": [
              "<Figure size 1000x500 with 1 Axes>"
            ],
            "image/png": "[encoded data removed]"
          },
          "metadata": {}
        }
      ]
    },
    {
      "cell_type": "markdown",
      "source": [
        "### RETAIN\n",
        "\n",
        "RETAIN [4] is a type of neural network designed for interpretability in healthcare applications, especially useful for electronic health records (EHR). RETAIN uses a combination of recurrent neural networks (RNNs) and attention mechanisms to provide interpretable predictions, where the model outputs not only a prediction but also explanations for that prediction in terms of input influence.\n",
        "\n",
        "Here’s a breakdown of each component and its role within the architecture:\n",
        "\n",
        "  * Embedding Layer: Converts sparse, categorical input data (like medical codes) into dense vector representations. This transformation helps in capturing and learning the relationships between different codes.\n",
        "\n",
        "  * Recurrent Neural Networks (RNNs): The architecture uses two GRU (Gated Recurrent Unit) layers, rnn_a and rnn_b. rnn_a layer is used to model the attention weights (alpha) that determine the importance of each visit in a patient's EHR. rnn_b layer models the contributions of different features within each visit (beta), essentially weighting how much each feature within a visit should contribute to the final prediction.\n",
        "\n",
        "  * Attention Mechanisms: These custom attention mechanisms, AlphaAttention and BetaAttention, are applied to the outputs of the rnn_a and rnn_b respectively.\n",
        "\n",
        "  * Linear and Sigmoid Output Layers."
      ],
      "metadata": {
        "id": "yD7muuHCxJaE"
      }
    },
    {
      "cell_type": "code",
      "source": [
        "class AlphaAttention(torch.nn.Module):\n",
        "\n",
        "    def __init__(self, embedding_dim):\n",
        "        super().__init__()\n",
        "\n",
        "        self.a_att = nn.Linear(embedding_dim, 1)\n",
        "\n",
        "    def forward(self, g, rev_masks):\n",
        "        attention_scores = self.a_att(g)\n",
        "\n",
        "        visit_level_masks = rev_masks.any(dim=2)\n",
        "        visit_level_masks = visit_level_masks.unsqueeze(-1)\n",
        "\n",
        "        attention_scores_masked = attention_scores.masked_fill(~visit_level_masks, -1e9)\n",
        "        alpha = F.softmax(attention_scores_masked, dim=1)\n",
        "\n",
        "        return alpha"
      ],
      "metadata": {
        "id": "IkyMHzncxKzI"
      },
      "execution_count": 32,
      "outputs": []
    },
    {
      "cell_type": "code",
      "source": [
        "class BetaAttention(torch.nn.Module):\n",
        "\n",
        "    def __init__(self, embedding_dim):\n",
        "        super().__init__()\n",
        "\n",
        "        self.b_att = nn.Linear(embedding_dim, embedding_dim)\n",
        "\n",
        "    def forward(self, h):\n",
        "        beta_score = self.b_att(h)\n",
        "        beta = torch.tanh(beta_score)\n",
        "\n",
        "        return beta"
      ],
      "metadata": {
        "id": "AypmSLCMxPUX"
      },
      "execution_count": 33,
      "outputs": []
    },
    {
      "cell_type": "code",
      "source": [
        "def attention_sum(alpha, beta, rev_v, rev_masks):\n",
        "    alpha = alpha.squeeze(-1)\n",
        "    weighted_visits = (alpha.unsqueeze(-1) * beta * rev_v)\n",
        "\n",
        "    visit_level_masks = rev_masks.any(dim=2)\n",
        "\n",
        "    mask_expanded = visit_level_masks.unsqueeze(-1).expand_as(weighted_visits)\n",
        "    weighted_visits_masked = weighted_visits * mask_expanded\n",
        "    c = weighted_visits_masked.sum(dim=1)\n",
        "\n",
        "    return c"
      ],
      "metadata": {
        "id": "GthK9hZlxSTt"
      },
      "execution_count": 34,
      "outputs": []
    },
    {
      "cell_type": "code",
      "source": [
        "def sum_embeddings_with_mask(x, masks):\n",
        "    x = x * masks.unsqueeze(-1)\n",
        "    x = torch.sum(x, dim = -2)\n",
        "    return x"
      ],
      "metadata": {
        "id": "KJIZ1s7jxVKi"
      },
      "execution_count": 35,
      "outputs": []
    },
    {
      "cell_type": "code",
      "source": [
        "class RETAIN(nn.Module):\n",
        "\n",
        "    def __init__(self, num_codes, embedding_dim=128):\n",
        "        super().__init__()\n",
        "        # Define the embedding layer using `nn.Embedding`. Set `embDimSize` to 128.\n",
        "        self.embedding = nn.Embedding(num_codes, embedding_dim)\n",
        "        # Define the RNN-alpha using `nn.GRU()`; Set `hidden_size` to 128. Set `batch_first` to True.\n",
        "        self.rnn_a = nn.GRU(embedding_dim, embedding_dim, batch_first=True)\n",
        "        # Define the RNN-beta using `nn.GRU()`; Set `hidden_size` to 128. Set `batch_first` to True.\n",
        "        self.rnn_b = nn.GRU(embedding_dim, embedding_dim, batch_first=True)\n",
        "        # Define the alpha-attention using `AlphaAttention()`;\n",
        "        self.att_a = AlphaAttention(embedding_dim)\n",
        "        # Define the beta-attention using `BetaAttention()`;\n",
        "        self.att_b = BetaAttention(embedding_dim)\n",
        "        # Define the linear layers using `nn.Linear()`;\n",
        "        self.fc = nn.Linear(embedding_dim, 1)\n",
        "        # Define the final activation layer using `nn.Sigmoid().\n",
        "        self.sigmoid = nn.Sigmoid()\n",
        "\n",
        "    def forward(self, x, masks, rev_x, rev_masks):\n",
        "        # 1. Pass the reversed sequence through the embedding layer;\n",
        "        rev_x = self.embedding(rev_x)\n",
        "        # 2. Sum the reversed embeddings for each diagnosis code up for a visit of a patient.\n",
        "        rev_x = sum_embeddings_with_mask(rev_x, rev_masks)\n",
        "        # 3. Pass the reversed embegginds through the RNN-alpha and RNN-beta layer separately;\n",
        "        g, _ = self.rnn_a(rev_x)\n",
        "        h, _ = self.rnn_b(rev_x)\n",
        "        # 4. Obtain the alpha and beta attentions using `AlphaAttention()` and `BetaAttention()`;\n",
        "        alpha = self.att_a(g, rev_masks)\n",
        "        beta = self.att_b(h)\n",
        "        # 5. Sum the attention up using `attention_sum()`;\n",
        "        c = attention_sum(alpha, beta, rev_x, rev_masks)\n",
        "        # 6. Pass the context vector through the linear and activation layers.\n",
        "        logits = self.fc(c)\n",
        "        probs = self.sigmoid(logits)\n",
        "        return probs.squeeze(dim=-1)\n",
        "\n",
        "\n",
        "# Loading the model\n",
        "retain = RETAIN(num_codes = max_index + 1)\n",
        "retain"
      ],
      "metadata": {
        "colab": {
          "base_uri": "https://localhost:8080/",
          "height": 0
        },
        "id": "eIlsq7QFxYXj",
        "outputId": "c878fbc9-161c-4640-8e45-9d26407cc324"
      },
      "execution_count": 36,
      "outputs": [
        {
          "output_type": "execute_result",
          "data": {
            "text/plain": [
              "RETAIN(\n",
              "  (embedding): Embedding(4511, 128)\n",
              "  (rnn_a): GRU(128, 128, batch_first=True)\n",
              "  (rnn_b): GRU(128, 128, batch_first=True)\n",
              "  (att_a): AlphaAttention(\n",
              "    (a_att): Linear(in_features=128, out_features=1, bias=True)\n",
              "  )\n",
              "  (att_b): BetaAttention(\n",
              "    (b_att): Linear(in_features=128, out_features=128, bias=True)\n",
              "  )\n",
              "  (fc): Linear(in_features=128, out_features=1, bias=True)\n",
              "  (sigmoid): Sigmoid()\n",
              ")"
            ]
          },
          "metadata": {},
          "execution_count": 36
        }
      ]
    },
    {
      "cell_type": "code",
      "source": [
        "criterion = nn.BCELoss()\n",
        "optimizer = torch.optim.Adam(retain.parameters(), lr=1e-3)\n",
        "\n",
        "n_epochs = 5\n",
        "roc_aucs = train(retain, train_loader, val_loader, n_epochs)\n",
        "\n",
        "plot_roc_auc(roc_aucs)"
      ],
      "metadata": {
        "colab": {
          "base_uri": "https://localhost:8080/",
          "height": 661
        },
        "id": "vm_M5jVcxkP0",
        "outputId": "92430d32-55f5-4909-88e0-fb05b3306f63"
      },
      "execution_count": 37,
      "outputs": [
        {
          "output_type": "stream",
          "name": "stdout",
          "text": [
            "Epoch: 1 \t Training Loss: 0.563210\n",
            "Epoch: 1 \t Validation p: 0.61, r:0.25, f: 0.35, roc_auc: 0.67\n",
            "Epoch: 2 \t Training Loss: 0.375301\n",
            "Epoch: 2 \t Validation p: 0.53, r:0.28, f: 0.37, roc_auc: 0.65\n",
            "Epoch: 3 \t Training Loss: 0.206490\n",
            "Epoch: 3 \t Validation p: 0.50, r:0.30, f: 0.37, roc_auc: 0.63\n",
            "Epoch: 4 \t Training Loss: 0.088395\n",
            "Epoch: 4 \t Validation p: 0.52, r:0.29, f: 0.37, roc_auc: 0.63\n",
            "Epoch: 5 \t Training Loss: 0.034188\n",
            "Epoch: 5 \t Validation p: 0.49, r:0.30, f: 0.37, roc_auc: 0.62\n"
          ]
        },
        {
          "output_type": "display_data",
          "data": {
            "text/plain": [
              "<Figure size 1000x500 with 1 Axes>"
            ],
            "image/png": "[encoded data removed]"
          },
          "metadata": {}
        }
      ]
    },
    {
      "cell_type": "markdown",
      "source": [
        "# Results\n",
        "\n",
        "  * Naive RNN\n",
        "\n",
        "  Evaluating both the loss metrics and performance metrics (precision, recall, F1-score, and ROC AUC) over multiple epochs, here are what I observe:\n",
        "\n",
        "    * Training Loss: Training loss decreases consistently from epoch 1 to epoch 5, which suggests that the model is learning and improving its predictions on the training data across epochs.\n",
        "\n",
        "    * Validation Metrics: The validation metrics from the bi-directional RNN model training indicate a fairly constant performance across epochs with precision hovering around 0.48, recall slightly decreasing from 0.31 to 0.28, and F1-scores reflecting a similar decline from 0.38 to 0.36. The ROC AUC score remains constant at 0.65 throughout the training epochs, suggesting a moderate but unchanging ability to discriminate between classes. These metrics suggest that while the model is consistent in its precision, it's losing some ability to capture all relevant cases (recall) without significant improvement in overall accuracy and predictive balance (F1-score), highlighting potential challenges in model generalization and effectiveness in handling the validation dataset.\n",
        "\n",
        "    * Overfitting: Given that training loss decreases while validation metrics either remain constant or slightly deteriorate, there may be a concern of overfitting. The model might be learning the training data too precisely, capturing noise rather than just the underlying patterns, which does not generalize well to unseen data.\n",
        "\n",
        "  * RETAIN\n",
        "\n",
        "  The results from training the RETAIN model suggest a few key patterns and possible concerns regarding its performance on both training and validation datasets:\n",
        "\n",
        "    * Training Loss: The training loss shows a clear and consistent decrease from 0.56 in Epoch 1 to 0.03 in Epoch 5. This sharp decrease in loss indicates that the model is effectively learning and improving its performance on the training dataset over time.\n",
        "\n",
        "    * Validation Metrics: The validation metrics for the RETAIN model over several epochs indicate a challenging pattern, where precision starts relatively high at 0.61 and then drops to 0.49, while recall slightly improves from 0.25 to 0.30. Despite these changes, the F1-score remains moderately stable around 0.37, suggesting that while the model maintains a balance between precision and recall, the overall accuracy and completeness of the predictions are moderate. The ROC AUC score, which assesses the model’s discriminatory power, shows a slight but consistent decline from 0.67 to 0.62.\n",
        "\n",
        "    * Generalization: Similar to Naive RNN, The decrease in precision and ROC AUC, alongside the decrease in training loss, might suggest overfitting, where the model is increasingly tailored to the training data's specific noise and details at the expense of its generalizability to unseen data."
      ],
      "metadata": {
        "id": "gX6bCcZNuxmz"
      }
    },
    {
      "cell_type": "markdown",
      "source": [
        "## Model comparison\n",
        "\n",
        "Comparing the results from the Naive RNN and RETAIN model with those reported in the paper [1], it is evident that the models used so far underperform relative to the LSTM-based model discussed in the paper. Specifically, the RETAIN model achieves a maximum ROC AUC of 0.67, which is significantly lower than the AUC scores reported in the paper for sepsis prediction, which are 0.952 for same-day prediction and 0.876 for next-day prediction.\n",
        "\n",
        "The lower performance is most likely due to the following:\n",
        "\n",
        "  * The LSTM model from the paper incorporates a variable-level attention mechanism, which likely contributes to its superior performance by effectively capturing important time-dependent patterns in the ICU data, thus enhancing its predictive accuracy.\n",
        "\n",
        "  * The features seleced are only a portion of the viable features that can be used. By expanding the input, better performance will be achieved."
      ],
      "metadata": {
        "id": "8EAWAy_LwHlV"
      }
    },
    {
      "cell_type": "markdown",
      "source": [
        "# Discussion\n",
        "  \n",
        "  * Make assessment that the paper is reproducible or not: The results obtained from my implementation of the Naive RNN and RETAIN model show substantial differences when compared to the high-performance benchmarks reported in the paper [1]. However, given the more complexity of the proposed model in the paper and more input features used, it is likely that the reported results can be reproduced when these improvements are implemented.\n",
        "  \n",
        "  * Explain why it is not reproducible if your results are kind negative: As mentioned earlier, variations in the features characteristics and preprocessing methodscan significantly impact the model's performance. This is probably the reason why performance metrics were lower compared to those reported in the paper.\n",
        "  \n",
        "  * Describe “What was easy” and “What was difficult” during the reproduction: Implementing the basic architecture of the Naive RNN and RETAIN models with common components like embeddings, GRUs, and linear layers was straightforward due to the availability of these modules in deep learning frameworks like PyTorch as well as the assigned Homeworks. On the other hand, achieving similar performance metrics as reported in the paper was challenging.\n",
        "  \n",
        "  * Make suggestions to the author or other reproducers on how to improve the reproducibility: No suggestions so far!\n",
        "  \n",
        "  * What will you do in next phase:\n",
        "\n",
        "    * Expand Dataset Analysis: Conduct a thorough analysis of the datasets to ensure that they are as similar as possible in terms of preprocessing and feature engineering to what was used in the study.\n",
        "\n",
        "    * Implement the LSTM with attention model proposed in the paper.\n",
        "\n",
        "    * Performing ablation studies."
      ],
      "metadata": {
        "id": "qH75TNU71eRH"
      }
    },
    {
      "cell_type": "markdown",
      "source": [
        "# References\n",
        "\n",
        "1.   Kaji, D.A., Zech, J.R., Kim, J.S., Cho, S.K., Dangayach, N.S., Costa, A.B. and Oermann, E.K., 2019. An attention based deep learning model of clinical events in the intensive care unit. PloS one, 14(2), p.e0211057.\n",
        "\n",
        "2.   Henry, K.E., Hager, D.N., Pronovost, P.J. and Saria, S., 2015. A targeted real-time early warning score (TREWScore) for septic shock. Science translational medicine, 7(299), pp.299ra122-299ra122.\n",
        "\n",
        "3.   Vincent, J.L., Moreno, R., Takala, J., Willatts, S., De Mendonça, A., Bruining, H., Reinhart, C.K., Suter, P. and Thijs, L.G., 1996. The SOFA (Sepsis-related Organ Failure Assessment) score to describe organ dysfunction/failure: On behalf of the Working Group on Sepsis-Related Problems of the European Society of Intensive Care Medicine.\n",
        "\n",
        "4.   Choi, E., Bahadori, M.T., Sun, J., Kulas, J., Schuetz, A. and Stewart, W., 2016. Retain: An interpretable predictive model for healthcare using reverse time attention mechanism. Advances in neural information processing systems, 29."
      ],
      "metadata": {
        "id": "SHMI2chl9omn"
      }
    },
    {
      "cell_type": "code",
      "source": [],
      "metadata": {
        "id": "XgrO0h-pDhXh"
      },
      "execution_count": null,
      "outputs": []
    }
  ]
}